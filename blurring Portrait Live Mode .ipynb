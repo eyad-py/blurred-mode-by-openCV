{
 "cells": [
  {
   "cell_type": "markdown",
   "metadata": {},
   "source": [
    "## **Imports**"
   ]
  },
  {
   "cell_type": "code",
   "execution_count": 1,
   "metadata": {},
   "outputs": [],
   "source": [
    "import numpy as np\n",
    "import cv2\n",
    "from matplotlib import pyplot as plt"
   ]
  },
  {
   "cell_type": "markdown",
   "metadata": {},
   "source": [
    "## **Code block**"
   ]
  },
  {
   "cell_type": "code",
   "execution_count": 2,
   "metadata": {},
   "outputs": [],
   "source": [
    "cap = cv2.VideoCapture('Portrait Mode with blurring.mp4')# 0 for your main camera # 1 for the second camera [ usb]\n",
    "while 1:\n",
    "    rat,frame = cap.read()# reading each frame ( \"ret\" is a boolean if reading is done correctly or not, the \"frame\" is the image)\n",
    "    mask = np.zeros((720,1280,3),dtype = \"uint8\") # making a black frame by NumPy array of zeros\n",
    "    mask = cv2.rectangle(mask,(380,0),(899,1280),(255,255,255),-1)# putting white rectangle on mask (this mask will be applied to the original frame)\n",
    "    mask2 = cv2.bitwise_not(mask)# mask inverse(this mask will be applied to the blurred frame)\n",
    "    blur = cv2.GaussianBlur(frame,(21,21),35)# making a blurred frame\n",
    "    frame_end = cv2.bitwise_and(frame, mask)#applying the original frame to the first mask\n",
    "    blur_end = cv2.bitwise_and(blur, mask2)#applying the blurred frame to the second mask\n",
    "    res = cv2.bitwise_or(frame_end,blur_end)#the result which is by applying frame_end and blur_end frames together\n",
    "    cv2.imshow('Live',res)# show the result\n",
    "    if cv2.waitKey(10) & 0xFF == ord('q'):# 0xFF is a hexadecimal constant which is 11111111 in binary.\n",
    "        break                             # By using bitwise AND (&) with this constant,\n",
    "                                          # it leaves only the last 8 bits of the original                               \n",
    "        \n",
    "        \n",
    "cap.release()  # to release hardware resources. (the camera here)                       \n",
    "cv2.destroyAllWindows() # closing all windows"
   ]
  },
  {
   "cell_type": "code",
   "execution_count": null,
   "metadata": {},
   "outputs": [],
   "source": []
  }
 ],
 "metadata": {
  "kernelspec": {
   "display_name": "Python 3",
   "language": "python",
   "name": "python3"
  },
  "language_info": {
   "codemirror_mode": {
    "name": "ipython",
    "version": 3
   },
   "file_extension": ".py",
   "mimetype": "text/x-python",
   "name": "python",
   "nbconvert_exporter": "python",
   "pygments_lexer": "ipython3",
   "version": "3.8.5"
  }
 },
 "nbformat": 4,
 "nbformat_minor": 4
}
